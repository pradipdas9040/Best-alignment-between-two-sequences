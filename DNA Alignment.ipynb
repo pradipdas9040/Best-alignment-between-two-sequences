{
 "cells": [
  {
   "cell_type": "code",
   "execution_count": 1,
   "id": "3619dd7e",
   "metadata": {},
   "outputs": [],
   "source": [
    "import numpy as np\n",
    "import pandas as pd"
   ]
  },
  {
   "cell_type": "code",
   "execution_count": 2,
   "id": "ad0d8559",
   "metadata": {},
   "outputs": [
    {
     "name": "stdout",
     "output_type": "stream",
     "text": [
      "Enter 1st string: AGCT\n",
      "Enter 2nd string: ATGCT\n"
     ]
    }
   ],
   "source": [
    "s = input('Enter 1st string: ')\n",
    "t = input('Enter 2nd string: ')\n",
    "m, n = len(s), len(t)"
   ]
  },
  {
   "cell_type": "code",
   "execution_count": 3,
   "id": "6774c1ea",
   "metadata": {},
   "outputs": [
    {
     "name": "stdout",
     "output_type": "stream",
     "text": [
      "4 5\n"
     ]
    }
   ],
   "source": [
    "column_labels = list('0'+t)\n",
    "row_labels = list('0'+s)\n",
    "print(m,n)"
   ]
  },
  {
   "cell_type": "code",
   "execution_count": 4,
   "id": "65750224",
   "metadata": {},
   "outputs": [],
   "source": [
    "a = np.zeros((m+1,n+1))"
   ]
  },
  {
   "cell_type": "code",
   "execution_count": 5,
   "id": "ac441a1b",
   "metadata": {},
   "outputs": [],
   "source": [
    "p = 0\n",
    "for i in range(m+1):\n",
    "    a[i][0] = -2*i\n",
    "for i in range(n+1):\n",
    "    a[0][i] = -2*i\n",
    "for i in range(1,m+1):\n",
    "    for j in range(1,n+1):\n",
    "        if s[i-1] == t[j-1]:\n",
    "            p = 1\n",
    "        else: p = -1\n",
    "        a[i][j] = max(a[i-1][j]-2, a[i-1][j-1]+p, a[i][j-1]-2)"
   ]
  },
  {
   "cell_type": "code",
   "execution_count": 6,
   "id": "89926c58",
   "metadata": {},
   "outputs": [
    {
     "name": "stdout",
     "output_type": "stream",
     "text": [
      "     0    A    T    G    C     T\n",
      "0  0.0 -2.0 -4.0 -6.0 -8.0 -10.0\n",
      "A -2.0  1.0 -1.0 -3.0 -5.0  -7.0\n",
      "G -4.0 -1.0  0.0  0.0 -2.0  -4.0\n",
      "C -6.0 -3.0 -2.0 -1.0  1.0  -1.0\n",
      "T -8.0 -5.0 -2.0 -3.0 -1.0   2.0\n"
     ]
    }
   ],
   "source": [
    "df = pd.DataFrame(a, columns=column_labels, index=row_labels)\n",
    "print(df)"
   ]
  },
  {
   "cell_type": "code",
   "execution_count": 7,
   "id": "7f563ebf",
   "metadata": {},
   "outputs": [],
   "source": [
    "al_s = []\n",
    "al_t = []\n",
    "def Align(i,j,a):\n",
    "    p = 1 if s[i-1] == t[j-1] else -1\n",
    "        \n",
    "    if i==0 and j==0:\n",
    "        pass\n",
    "    elif i > 0 and a[i,j] == a[i-1, j]-2:\n",
    "        Align(i-1, j, a)\n",
    "        al_s.append(s[i-1])\n",
    "        al_t.append('-')\n",
    "    elif i > 0 and j > 0 and a[i, j] == a[i-1, j-1]+p:\n",
    "        Align(i-1, j-1, a)\n",
    "        al_s.append(s[i-1])\n",
    "        al_t.append(t[j-1])\n",
    "    else: \n",
    "        Align(i,j-1, a)\n",
    "        al_s.append('-')\n",
    "        al_t.append(t[j-1]) \n",
    "    \n",
    "Align(m,n,a)"
   ]
  },
  {
   "cell_type": "code",
   "execution_count": 8,
   "id": "37ae929d",
   "metadata": {},
   "outputs": [],
   "source": [
    "align_s = ''\n",
    "align_t = ''\n",
    "for i in range(len(al_s)):\n",
    "    align_s += al_s[i]\n",
    "for i in range(len(al_t)):\n",
    "    align_t += al_t[i]"
   ]
  },
  {
   "cell_type": "code",
   "execution_count": 9,
   "id": "5fb1e1cf",
   "metadata": {},
   "outputs": [
    {
     "name": "stdout",
     "output_type": "stream",
     "text": [
      "A-GCT\n",
      "ATGCT\n"
     ]
    }
   ],
   "source": [
    "print(align_s)\n",
    "print(align_t)"
   ]
  }
 ],
 "metadata": {
  "kernelspec": {
   "display_name": "Python 3 (ipykernel)",
   "language": "python",
   "name": "python3"
  },
  "language_info": {
   "codemirror_mode": {
    "name": "ipython",
    "version": 3
   },
   "file_extension": ".py",
   "mimetype": "text/x-python",
   "name": "python",
   "nbconvert_exporter": "python",
   "pygments_lexer": "ipython3",
   "version": "3.10.2"
  }
 },
 "nbformat": 4,
 "nbformat_minor": 5
}
